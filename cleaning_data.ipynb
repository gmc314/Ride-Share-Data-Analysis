{
 "cells": [
  {
   "cell_type": "code",
   "execution_count": 7,
   "metadata": {},
   "outputs": [],
   "source": [
    "import pandas as pd\n",
    "import numpy as np\n",
    "import matplotlib.pyplot as plt"
   ]
  },
  {
   "cell_type": "code",
   "execution_count": 8,
   "metadata": {},
   "outputs": [
    {
     "data": {
      "text/html": [
       "<div>\n",
       "<style scoped>\n",
       "    .dataframe tbody tr th:only-of-type {\n",
       "        vertical-align: middle;\n",
       "    }\n",
       "\n",
       "    .dataframe tbody tr th {\n",
       "        vertical-align: top;\n",
       "    }\n",
       "\n",
       "    .dataframe thead th {\n",
       "        text-align: right;\n",
       "    }\n",
       "</style>\n",
       "<table border=\"1\" class=\"dataframe\">\n",
       "  <thead>\n",
       "    <tr style=\"text-align: right;\">\n",
       "      <th></th>\n",
       "      <th>ride_id</th>\n",
       "      <th>rideable_type</th>\n",
       "      <th>started_at</th>\n",
       "      <th>ended_at</th>\n",
       "      <th>start_station_name</th>\n",
       "      <th>start_station_id</th>\n",
       "      <th>end_station_name</th>\n",
       "      <th>end_station_id</th>\n",
       "      <th>start_lat</th>\n",
       "      <th>start_lng</th>\n",
       "      <th>end_lat</th>\n",
       "      <th>end_lng</th>\n",
       "      <th>member_casual</th>\n",
       "      <th>ride_length</th>\n",
       "      <th>day_of_week</th>\n",
       "    </tr>\n",
       "  </thead>\n",
       "  <tbody>\n",
       "    <tr>\n",
       "      <th>0</th>\n",
       "      <td>9340B064F0AEE130</td>\n",
       "      <td>electric_bike</td>\n",
       "      <td>2023-07-23 20:06</td>\n",
       "      <td>2023-07-23 20:22</td>\n",
       "      <td>Kedzie Ave &amp; 110th St</td>\n",
       "      <td>20204</td>\n",
       "      <td>Public Rack - Racine Ave &amp; 109th Pl</td>\n",
       "      <td>877</td>\n",
       "      <td>41.692406</td>\n",
       "      <td>-87.700905</td>\n",
       "      <td>41.694835</td>\n",
       "      <td>-87.653041</td>\n",
       "      <td>member</td>\n",
       "      <td>00:16:30</td>\n",
       "      <td>1</td>\n",
       "    </tr>\n",
       "    <tr>\n",
       "      <th>1</th>\n",
       "      <td>D1460EE3CE0D8AF8</td>\n",
       "      <td>classic_bike</td>\n",
       "      <td>2023-07-23 17:05</td>\n",
       "      <td>2023-07-23 17:18</td>\n",
       "      <td>Western Ave &amp; Walton St</td>\n",
       "      <td>KA1504000103</td>\n",
       "      <td>Milwaukee Ave &amp; Grand Ave</td>\n",
       "      <td>13033</td>\n",
       "      <td>41.898418</td>\n",
       "      <td>-87.686596</td>\n",
       "      <td>41.891578</td>\n",
       "      <td>-87.648384</td>\n",
       "      <td>member</td>\n",
       "      <td>00:13:30</td>\n",
       "      <td>1</td>\n",
       "    </tr>\n",
       "    <tr>\n",
       "      <th>2</th>\n",
       "      <td>DF41BE31B895A25E</td>\n",
       "      <td>classic_bike</td>\n",
       "      <td>2023-07-23 10:14</td>\n",
       "      <td>2023-07-23 10:24</td>\n",
       "      <td>Western Ave &amp; Walton St</td>\n",
       "      <td>KA1504000103</td>\n",
       "      <td>Damen Ave &amp; Pierce Ave</td>\n",
       "      <td>TA1305000041</td>\n",
       "      <td>41.898418</td>\n",
       "      <td>-87.686596</td>\n",
       "      <td>41.909396</td>\n",
       "      <td>-87.677692</td>\n",
       "      <td>member</td>\n",
       "      <td>00:09:36</td>\n",
       "      <td>1</td>\n",
       "    </tr>\n",
       "    <tr>\n",
       "      <th>3</th>\n",
       "      <td>9624A293749EF703</td>\n",
       "      <td>electric_bike</td>\n",
       "      <td>2023-07-21 8:27</td>\n",
       "      <td>2023-07-21 8:32</td>\n",
       "      <td>Racine Ave &amp; Randolph St</td>\n",
       "      <td>13155</td>\n",
       "      <td>Clinton St &amp; Madison St</td>\n",
       "      <td>TA1305000032</td>\n",
       "      <td>41.884112</td>\n",
       "      <td>-87.656943</td>\n",
       "      <td>41.882752</td>\n",
       "      <td>-87.641190</td>\n",
       "      <td>member</td>\n",
       "      <td>00:04:56</td>\n",
       "      <td>6</td>\n",
       "    </tr>\n",
       "    <tr>\n",
       "      <th>4</th>\n",
       "      <td>2F68A6A4CDB4C99A</td>\n",
       "      <td>classic_bike</td>\n",
       "      <td>2023-07-08 15:46</td>\n",
       "      <td>2023-07-08 15:58</td>\n",
       "      <td>Clark St &amp; Leland Ave</td>\n",
       "      <td>TA1309000014</td>\n",
       "      <td>Montrose Harbor</td>\n",
       "      <td>TA1308000012</td>\n",
       "      <td>41.967088</td>\n",
       "      <td>-87.667291</td>\n",
       "      <td>41.963982</td>\n",
       "      <td>-87.638181</td>\n",
       "      <td>member</td>\n",
       "      <td>00:11:26</td>\n",
       "      <td>7</td>\n",
       "    </tr>\n",
       "  </tbody>\n",
       "</table>\n",
       "</div>"
      ],
      "text/plain": [
       "            ride_id  rideable_type        started_at          ended_at  \\\n",
       "0  9340B064F0AEE130  electric_bike  2023-07-23 20:06  2023-07-23 20:22   \n",
       "1  D1460EE3CE0D8AF8   classic_bike  2023-07-23 17:05  2023-07-23 17:18   \n",
       "2  DF41BE31B895A25E   classic_bike  2023-07-23 10:14  2023-07-23 10:24   \n",
       "3  9624A293749EF703  electric_bike   2023-07-21 8:27   2023-07-21 8:32   \n",
       "4  2F68A6A4CDB4C99A   classic_bike  2023-07-08 15:46  2023-07-08 15:58   \n",
       "\n",
       "         start_station_name start_station_id  \\\n",
       "0     Kedzie Ave & 110th St            20204   \n",
       "1   Western Ave & Walton St     KA1504000103   \n",
       "2   Western Ave & Walton St     KA1504000103   \n",
       "3  Racine Ave & Randolph St            13155   \n",
       "4     Clark St & Leland Ave     TA1309000014   \n",
       "\n",
       "                      end_station_name end_station_id  start_lat  start_lng  \\\n",
       "0  Public Rack - Racine Ave & 109th Pl            877  41.692406 -87.700905   \n",
       "1            Milwaukee Ave & Grand Ave          13033  41.898418 -87.686596   \n",
       "2               Damen Ave & Pierce Ave   TA1305000041  41.898418 -87.686596   \n",
       "3              Clinton St & Madison St   TA1305000032  41.884112 -87.656943   \n",
       "4                      Montrose Harbor   TA1308000012  41.967088 -87.667291   \n",
       "\n",
       "     end_lat    end_lng member_casual ride_length  day_of_week  \n",
       "0  41.694835 -87.653041        member    00:16:30            1  \n",
       "1  41.891578 -87.648384        member    00:13:30            1  \n",
       "2  41.909396 -87.677692        member    00:09:36            1  \n",
       "3  41.882752 -87.641190        member    00:04:56            6  \n",
       "4  41.963982 -87.638181        member    00:11:26            7  "
      ]
     },
     "execution_count": 8,
     "metadata": {},
     "output_type": "execute_result"
    }
   ],
   "source": [
    "raw_file = pd.read_csv(\"data/202307-divvy-tripdata.csv\")\n",
    "base_dataframe = pd.DataFrame(raw_file)\n",
    "base_dataframe.head()"
   ]
  },
  {
   "cell_type": "code",
   "execution_count": 9,
   "metadata": {},
   "outputs": [
    {
     "data": {
      "text/plain": [
       "ride_id               0.000000\n",
       "rideable_type         0.000000\n",
       "started_at            0.000000\n",
       "ended_at              0.000000\n",
       "start_station_name    0.160155\n",
       "start_station_id      0.160155\n",
       "end_station_name      0.169744\n",
       "end_station_id        0.169744\n",
       "start_lat             0.000000\n",
       "start_lng             0.000000\n",
       "end_lat               0.000000\n",
       "end_lng               0.000000\n",
       "member_casual         0.000000\n",
       "ride_length           0.000000\n",
       "day_of_week           0.000000\n",
       "dtype: float64"
      ]
     },
     "execution_count": 9,
     "metadata": {},
     "output_type": "execute_result"
    }
   ],
   "source": [
    "# check for percentage of blank cells in each column of the dataframe \n",
    "base_dataframe.isna().sum()/base_dataframe.shape[0]"
   ]
  },
  {
   "cell_type": "code",
   "execution_count": 10,
   "metadata": {},
   "outputs": [
    {
     "data": {
      "text/plain": [
       "(574023, 15)"
      ]
     },
     "execution_count": 10,
     "metadata": {},
     "output_type": "execute_result"
    }
   ],
   "source": [
    "# removing rides with blank data\n",
    "cleaned_data = base_dataframe.dropna()\n",
    "# number of rows and columns of cleaned data\n",
    "cleaned_data.shape"
   ]
  },
  {
   "cell_type": "code",
   "execution_count": 11,
   "metadata": {},
   "outputs": [],
   "source": [
    "# dropping rows with the same start and end times\n",
    "def get_matching_rows_indexes(df, col1, col2):\n",
    "    \"\"\"\n",
    "    Get a list of indexes of rows where the values in col1 and col2 are the same.\n",
    "\n",
    "    Parameters:\n",
    "    df (pd.DataFrame): The DataFrame to check.\n",
    "    col1 (str): The name of the first column.\n",
    "    col2 (str): The name of the second column.\n",
    "\n",
    "    Returns:\n",
    "    list: A list of row indexes where the values in col1 and col2 are the same.\n",
    "    \"\"\"\n",
    "    matching_indexes = df.index[df[col1] == df[col2]].tolist()\n",
    "    return matching_indexes\n",
    "\n",
    "rides_with_the_same_start_and_end_time = get_matching_rows_indexes(cleaned_data, \"started_at\", \"ended_at\")\n",
    "cleaned_data = cleaned_data.drop(rides_with_the_same_start_and_end_time)\n"
   ]
  },
  {
   "cell_type": "code",
   "execution_count": 12,
   "metadata": {},
   "outputs": [],
   "source": [
    "def get_seconds(time_str):\n",
    "    \"\"\"Get seconds from hh:mm:ss formatted time.\"\"\"\n",
    "    h, m, s = list(map(int, time_str.split(\":\")))\n",
    "    return h * 3600 + m * 60 + s\n",
    "\n",
    "# converting the hh:mm:ss format of time into seconds\n",
    "cleaned_data[\"ride_length_seconds\"] = cleaned_data[\"ride_length\"].apply(get_seconds)\n",
    "\n",
    "# exporting the cleaned data to csv format\n",
    "cleaned_data.to_csv(\"cleaned_data/clean-202307-divvy-tripdata.csv\", index=False)"
   ]
  }
 ],
 "metadata": {
  "kernelspec": {
   "display_name": "Python 3",
   "language": "python",
   "name": "python3"
  },
  "language_info": {
   "codemirror_mode": {
    "name": "ipython",
    "version": 3
   },
   "file_extension": ".py",
   "mimetype": "text/x-python",
   "name": "python",
   "nbconvert_exporter": "python",
   "pygments_lexer": "ipython3",
   "version": "3.11.6"
  }
 },
 "nbformat": 4,
 "nbformat_minor": 2
}
