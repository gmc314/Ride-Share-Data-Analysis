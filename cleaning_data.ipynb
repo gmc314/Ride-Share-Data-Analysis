{
 "cells": [
  {
   "cell_type": "code",
   "execution_count": null,
   "metadata": {},
   "outputs": [],
   "source": [
    "import pandas as pd\n",
    "import numpy as np"
   ]
  },
  {
   "cell_type": "code",
   "execution_count": null,
   "metadata": {},
   "outputs": [],
   "source": [
    "data_file_name = \"202406-divvy-tripdata.csv\"\n",
    "raw_file = pd.read_csv(f\"data/{data_file_name}\")\n",
    "base_dataframe = pd.DataFrame(raw_file)\n",
    "base_dataframe.head()"
   ]
  },
  {
   "cell_type": "code",
   "execution_count": null,
   "metadata": {},
   "outputs": [],
   "source": [
    "# check for percentage of blank cells in each column of the dataframe \n",
    "base_dataframe.isna().sum()/base_dataframe.shape[0]"
   ]
  },
  {
   "cell_type": "code",
   "execution_count": null,
   "metadata": {},
   "outputs": [],
   "source": [
    "# removing rides with blank data\n",
    "cleaned_data = base_dataframe.dropna()"
   ]
  },
  {
   "cell_type": "code",
   "execution_count": null,
   "metadata": {},
   "outputs": [],
   "source": [
    "# dropping rows with the same start and end times\n",
    "def get_matching_rows_indexes(df, col1, col2):\n",
    "    \"\"\"\n",
    "    Get a list of indexes of rows where the values in col1 and col2 are the same.\n",
    "\n",
    "    Parameters:\n",
    "    df (pd.DataFrame): The DataFrame to check.\n",
    "    col1 (str): The name of the first column.\n",
    "    col2 (str): The name of the second column.\n",
    "\n",
    "    Returns:\n",
    "    list: A list of row indexes where the values in col1 and col2 are the same.\n",
    "    \"\"\"\n",
    "    matching_indexes = df.index[df[col1] == df[col2]].tolist()\n",
    "    return matching_indexes\n",
    "\n",
    "rides_with_the_same_start_and_end_time = get_matching_rows_indexes(cleaned_data, \"started_at\", \"ended_at\")\n",
    "cleaned_data = cleaned_data.drop(rides_with_the_same_start_and_end_time)\n"
   ]
  },
  {
   "cell_type": "code",
   "execution_count": null,
   "metadata": {},
   "outputs": [],
   "source": [
    "# getting distance of bike rides from longitude and lattitude co-ordinates\n",
    "def deg2rad(deg):\n",
    "    \"\"\"\n",
    "    Convert degrees to radians.\n",
    "\n",
    "    Parameters:\n",
    "    deg (float): Angle in degrees.\n",
    "\n",
    "    Returns:\n",
    "    float: Angle in radians.\n",
    "    \"\"\"\n",
    "    return deg * (np.pi / 180)\n",
    "\n",
    "def get_distance_from_lat_lon_in_km(lat1, lon1, lat2, lon2):\n",
    "    \"\"\"\n",
    "    Calculate the distance between two points on the Earth's surface specified by latitude and longitude using the Haversine formula.\n",
    "\n",
    "    Parameters:\n",
    "    lat1 (float): Latitude of the first point in degrees.\n",
    "    lon1 (float): Longitude of the first point in degrees.\n",
    "    lat2 (float): Latitude of the second point in degrees.\n",
    "    lon2 (float): Longitude of the second point in degrees.\n",
    "\n",
    "    Returns:\n",
    "    float: Distance between the two points in kilometers.\n",
    "    \"\"\"\n",
    "\n",
    "    R = 6371  # Radius of the Earth in km\n",
    "    \n",
    "    dLat = deg2rad(lat2 - lat1)\n",
    "    dLon = deg2rad(lon2 - lon1)\n",
    "    \n",
    "    a = (np.sin(dLat / 2) * np.sin(dLat / 2) +\n",
    "         np.cos(deg2rad(lat1)) * np.cos(deg2rad(lat2)) *\n",
    "         np.sin(dLon / 2) * np.sin(dLon / 2))\n",
    "    \n",
    "    c = 2 * np.arctan2(np.sqrt(a), np.sqrt(1 - a))\n",
    "    \n",
    "    d = R * c # Distance in km\n",
    "    return d\n",
    "\n",
    "cleaned_data[\"ride_distance_km\"] = get_distance_from_lat_lon_in_km(\n",
    "    cleaned_data[\"start_lat\"],\n",
    "    cleaned_data[\"start_lng\"],\n",
    "    cleaned_data[\"end_lat\"], \n",
    "    cleaned_data[\"end_lng\"]    \n",
    ")"
   ]
  },
  {
   "cell_type": "code",
   "execution_count": null,
   "metadata": {},
   "outputs": [],
   "source": [
    "def get_seconds(time_str):\n",
    "    \"\"\"\n",
    "    Get seconds from hh:mm:ss formatted time.\n",
    "    \n",
    "    Parameters: \n",
    "    time_str (string): time in hh:mm:ss format\n",
    "\n",
    "    Returns:\n",
    "    int: time in seconds\n",
    "    \"\"\"\n",
    "    try:\n",
    "        h, m, s = list(map(int, time_str.split(\":\")))\n",
    "        return h * 3600 + m * 60 + s\n",
    "    \n",
    "    except ValueError:\n",
    "        return 0\n",
    "    \n",
    "    \n",
    "def get_zero_distance_indexes(df, col):\n",
    "    \"\"\"\n",
    "    Get a list of indexes of rows where the values in col are 0.\n",
    "\n",
    "    Parameters:\n",
    "    df (pd.DataFrame): The DataFrame to check.\n",
    "    col (str): The name of the column.\n",
    "\n",
    "    Returns:\n",
    "    list: A list of row indexes where the values in col are 0\n",
    "    \"\"\"\n",
    "    matching_indexes = df.index[df[col] == 0].tolist()\n",
    "    return matching_indexes\n",
    "\n",
    "\n",
    "# cleaning data of zero-length rides\n",
    "rides_with_zero_time = get_zero_distance_indexes(cleaned_data, \"ride_length\")\n",
    "cleaned_data = cleaned_data.drop(rides_with_zero_time)\n",
    "\n",
    "# converting the hh:mm:ss format of time into seconds\n",
    "cleaned_data[\"ride_length_seconds\"] = cleaned_data[\"ride_length\"].apply(get_seconds)\n",
    "\n",
    "# converting member_casual to 1/0\n",
    "cleaned_data[\"member_casual\"] = cleaned_data[\"member_casual\"].astype(\"category\")\n",
    "cleaned_data[\"member_casual_binary\"] = cleaned_data[\"member_casual\"].cat.codes\n",
    "\n",
    "# exporting the cleaned data to csv format\n",
    "cleaned_data.to_csv(f\"cleaned_data/clean-{data_file_name}\", index=False)"
   ]
  }
 ],
 "metadata": {
  "kernelspec": {
   "display_name": "Python 3",
   "language": "python",
   "name": "python3"
  },
  "language_info": {
   "codemirror_mode": {
    "name": "ipython",
    "version": 3
   },
   "file_extension": ".py",
   "mimetype": "text/x-python",
   "name": "python",
   "nbconvert_exporter": "python",
   "pygments_lexer": "ipython3",
   "version": "3.11.6"
  }
 },
 "nbformat": 4,
 "nbformat_minor": 2
}
