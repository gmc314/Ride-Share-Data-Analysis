{
 "cells": [
  {
   "cell_type": "code",
   "execution_count": 1,
   "metadata": {},
   "outputs": [],
   "source": [
    "import pandas as pd\n",
    "import seaborn as sns\n",
    "import matplotlib.pyplot as plt\n",
    "import os"
   ]
  },
  {
   "cell_type": "code",
   "execution_count": 2,
   "metadata": {},
   "outputs": [],
   "source": [
    "cleaned_files = os.listdir(\"cleaned_data\\\\\")\n",
    "\n",
    "# combining data into single frame\n",
    "dataframes = [pd.read_csv(f\"cleaned_data\\\\{file}\") for file in cleaned_files]\n",
    "data = pd.concat(dataframes)"
   ]
  },
  {
   "cell_type": "code",
   "execution_count": null,
   "metadata": {},
   "outputs": [],
   "source": [
    "data.tail()"
   ]
  },
  {
   "cell_type": "code",
   "execution_count": null,
   "metadata": {},
   "outputs": [],
   "source": [
    "# Create a figure and two subplots\n",
    "fig, (ax1, ax2) = plt.subplots(nrows=2, ncols=1, figsize=(12, 20))\n",
    "\n",
    "# Plot for members' starting station\n",
    "data[data[\"member_casual\"] == \"member\"][\"start_station_name\"].value_counts().nlargest(30).plot(\n",
    "    kind='bar', ax=ax1, color='b')\n",
    "\n",
    "ax1.set_title(\"Number of Rides by Members' Starting Station\")\n",
    "ax1.set_ylabel('Number of Rides')\n",
    "ax1.set_xlabel('Starting Station')\n",
    "ax1.set_xticklabels(ax1.get_xticklabels(), rotation=45, ha='right')\n",
    "\n",
    "# Plot for casuals' starting station\n",
    "data[data[\"member_casual\"] == \"casual\"][\"start_station_name\"].value_counts().nlargest(30).plot(\n",
    "    kind='bar', ax=ax2, color='g')\n",
    "\n",
    "ax2.set_title(\"Number of Rides by Casuals' Starting Station\")\n",
    "ax2.set_ylabel('Number of Rides')\n",
    "ax2.set_xlabel('Starting Station')\n",
    "ax2.set_xticklabels(ax2.get_xticklabels(), rotation=45, ha='right')\n",
    "\n",
    "plt.tight_layout()\n",
    "plt.show()\n"
   ]
  },
  {
   "cell_type": "code",
   "execution_count": null,
   "metadata": {},
   "outputs": [],
   "source": [
    "numeric_data = data[['start_lat',\n",
    "                     'start_lng',\n",
    "                     'end_lat',\n",
    "                     'end_lng',\n",
    "                     'day_of_week',\n",
    "                     'ride_distance_km',\n",
    "                     'ride_length_seconds']]\n",
    "sns.heatmap(numeric_data.corr(), annot=True, cmap=\"coolwarm\");"
   ]
  },
  {
   "cell_type": "code",
   "execution_count": null,
   "metadata": {},
   "outputs": [],
   "source": [
    "member_data = data[data[\"member_casual\"] == \"member\"]\n",
    "casual_data = data[data[\"member_casual\"] == \"casual\"]\n",
    "\n",
    "# Create a figure with 1 row and 2 columns of subplots\n",
    "fig, axes = plt.subplots(nrows=1, ncols=2, figsize=(12, 6))\n",
    "\n",
    "# Plot the bar chart for members\n",
    "member_data[\"rideable_type\"].value_counts().plot.bar(ax=axes[0], color='b')\n",
    "axes[0].set_title('Members')\n",
    "axes[0].set_xlabel('Rideable Type')\n",
    "axes[0].set_ylabel('Count')\n",
    "\n",
    "# Plot the bar chart for casuals\n",
    "casual_data[\"rideable_type\"].value_counts().plot.bar(ax=axes[1], color='g')\n",
    "axes[1].set_title('Casuals')\n",
    "axes[1].set_xlabel('Rideable Type')\n",
    "axes[1].set_ylabel('Count')\n",
    "\n",
    "# Adjust layout\n",
    "plt.tight_layout()\n",
    "\n",
    "# Show the plots\n",
    "plt.show()"
   ]
  },
  {
   "cell_type": "code",
   "execution_count": null,
   "metadata": {},
   "outputs": [],
   "source": [
    "# Create subplots\n",
    "fig, axs = plt.subplots(1, 2, figsize=(12, 6), sharey=True)\n",
    "\n",
    "# Plot for 'member'\n",
    "member_data = member_data['day_of_week'].value_counts()\n",
    "axs[0].bar(member_data.index, member_data.values, color='b')\n",
    "axs[0].set_title('Member')\n",
    "axs[0].set_xlabel('Day of the Week')\n",
    "axs[0].set_ylabel('Count')\n",
    "\n",
    "# Plot for 'casual'\n",
    "casual_data = casual_data['day_of_week'].value_counts()\n",
    "axs[1].bar(casual_data.index, casual_data.values, color='g')\n",
    "axs[1].set_title('Casual')\n",
    "axs[1].set_xlabel('Day of the Week')\n",
    "\n",
    "# Adjust layout\n",
    "plt.tight_layout()\n",
    "plt.show()\n"
   ]
  },
  {
   "cell_type": "code",
   "execution_count": null,
   "metadata": {},
   "outputs": [],
   "source": [
    "data['started_at'] = pd.to_datetime(data['started_at'])\n",
    "\n",
    "# Group by the date (or by specific time intervals) and count observations\n",
    "counts = data.groupby(data['started_at'].dt.date).size()\n",
    "\n",
    "plt.figure(figsize=(10, 6))\n",
    "ax = counts.plot(kind='bar', color='skyblue')\n",
    "\n",
    "# Reduce the number of ticks to show only the months\n",
    "plt.xticks(ticks=range(0, len(counts), 12), labels=[f\"{date.year}-{date.month}\" for date in counts.index[::12]], rotation=45)\n",
    "\n",
    "plt.title('Rides by Month')\n",
    "plt.xlabel('Month')\n",
    "plt.ylabel('Number of Rides')\n",
    "plt.tight_layout()\n",
    "plt.show()"
   ]
  }
 ],
 "metadata": {
  "kernelspec": {
   "display_name": "Python 3",
   "language": "python",
   "name": "python3"
  },
  "language_info": {
   "codemirror_mode": {
    "name": "ipython",
    "version": 3
   },
   "file_extension": ".py",
   "mimetype": "text/x-python",
   "name": "python",
   "nbconvert_exporter": "python",
   "pygments_lexer": "ipython3",
   "version": "3.11.6"
  }
 },
 "nbformat": 4,
 "nbformat_minor": 2
}
